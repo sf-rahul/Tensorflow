{
  "nbformat": 4,
  "nbformat_minor": 0,
  "metadata": {
    "colab": {
      "name": "Recusrion.ipynb",
      "provenance": [],
      "collapsed_sections": [],
      "authorship_tag": "ABX9TyPOMXhkszha3qrPIsmdUli7",
      "include_colab_link": true
    },
    "kernelspec": {
      "name": "python3",
      "display_name": "Python 3"
    }
  },
  "cells": [
    {
      "cell_type": "markdown",
      "metadata": {
        "id": "view-in-github",
        "colab_type": "text"
      },
      "source": [
        "<a href=\"https://colab.research.google.com/github/sf-rahul/Tensorflow/blob/master/Recusrion.ipynb\" target=\"_parent\"><img src=\"https://colab.research.google.com/assets/colab-badge.svg\" alt=\"Open In Colab\"/></a>"
      ]
    },
    {
      "cell_type": "code",
      "metadata": {
        "id": "FZdwWLem9Bms",
        "colab_type": "code",
        "colab": {}
      },
      "source": [
        "#find maximum in list recursievely.\n",
        "def getMax(e,arr):\n",
        "  print(arr,e)\n",
        "  if len(arr)==1:\n",
        "    return e if e>arr[0] else arr[0]\n",
        "  else:\n",
        "    f=arr[0]\n",
        "    arr = arr[1:]\n",
        "    e= e if e>f else f\n",
        "    return getMax(e,arr)"
      ],
      "execution_count": 0,
      "outputs": []
    },
    {
      "cell_type": "code",
      "metadata": {
        "id": "NBU7QPOq-HZT",
        "colab_type": "code",
        "colab": {
          "base_uri": "https://localhost:8080/",
          "height": 194
        },
        "outputId": "8e98d960-d616-4aaa-b5bd-21723a6aaee5"
      },
      "source": [
        "print(getMax(0,[99,2,1,5,7,10,3,100,6]))"
      ],
      "execution_count": 38,
      "outputs": [
        {
          "output_type": "stream",
          "text": [
            "[99, 2, 1, 5, 7, 10, 3, 100, 6] 0\n",
            "[2, 1, 5, 7, 10, 3, 100, 6] 99\n",
            "[1, 5, 7, 10, 3, 100, 6] 99\n",
            "[5, 7, 10, 3, 100, 6] 99\n",
            "[7, 10, 3, 100, 6] 99\n",
            "[10, 3, 100, 6] 99\n",
            "[3, 100, 6] 99\n",
            "[100, 6] 99\n",
            "[6] 100\n",
            "100\n"
          ],
          "name": "stdout"
        }
      ]
    },
    {
      "cell_type": "code",
      "metadata": {
        "id": "Z9Po2zdjBg06",
        "colab_type": "code",
        "colab": {}
      },
      "source": [
        ""
      ],
      "execution_count": 0,
      "outputs": []
    }
  ]
}