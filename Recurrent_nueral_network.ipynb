{
  "nbformat": 4,
  "nbformat_minor": 0,
  "metadata": {
    "colab": {
      "name": "Recurrent nueral network.ipynb",
      "provenance": [],
      "collapsed_sections": [],
      "authorship_tag": "ABX9TyOXk5J6DjV+L1Ty19+eEpF+",
      "include_colab_link": true
    },
    "kernelspec": {
      "name": "python3",
      "display_name": "Python 3"
    }
  },
  "cells": [
    {
      "cell_type": "markdown",
      "metadata": {
        "id": "view-in-github",
        "colab_type": "text"
      },
      "source": [
        "<a href=\"https://colab.research.google.com/github/sf-rahul/Tensorflow/blob/master/Recurrent_nueral_network.ipynb\" target=\"_parent\"><img src=\"https://colab.research.google.com/assets/colab-badge.svg\" alt=\"Open In Colab\"/></a>"
      ]
    },
    {
      "cell_type": "code",
      "metadata": {
        "id": "xdVkGp34FRNj",
        "colab_type": "code",
        "colab": {
          "base_uri": "https://localhost:8080/",
          "height": 34
        },
        "outputId": "73a2f510-d685-4730-ce6d-9fc22de75ddc"
      },
      "source": [
        "#rnnn\n",
        "from __future__ import absolute_import, division, print_function, unicode_literals\n",
        "\n",
        "try:\n",
        "  # %tensorflow_version only exists in Colab.\n",
        "  %tensorflow_version 2.x\n",
        "except Exception:\n",
        "  pass\n",
        "import tensorflow as tf\n",
        "\n",
        "import numpy as np\n",
        "import os\n",
        "import time\n",
        "\n",
        "tf.random.set_seed(1)"
      ],
      "execution_count": 1,
      "outputs": [
        {
          "output_type": "stream",
          "text": [
            "TensorFlow 2.x selected.\n"
          ],
          "name": "stdout"
        }
      ]
    },
    {
      "cell_type": "code",
      "metadata": {
        "id": "At12fr4xFapl",
        "colab_type": "code",
        "colab": {}
      },
      "source": [
        "#function to create time series data of length n_steps\n",
        "#input to the rnn is [batch_size, time steps , dimensionality]\n",
        "#a time series is cosistting of timesteps and value (univariate or multivariate)\n",
        "def generate_time_series(batch_size,n_steps):\n",
        "  freq1,freq2,offset1,offset2 = np.random.rand(4,batch_size,1)#4 random array of shape (batch_size,1)\n",
        "  time = np.linspace(0,1,n_steps)\n",
        "  series = 0.5  * np.sin((time-offset1) * (freq1*10+10)) #wave1\n",
        "  series+= 0.2 * np.sin((time-offset2) * (freq2*20 +20)) #+wave2\n",
        "  series +=0.1*(np.random.rand(batch_size,n_steps) - 0.5) #+noise\n",
        "  print(series)\n",
        "  return series[...,np.newaxis].astype(np.float32)\n",
        "\n",
        "\n"
      ],
      "execution_count": 0,
      "outputs": []
    },
    {
      "cell_type": "code",
      "metadata": {
        "id": "nyPGB2QWGB6p",
        "colab_type": "code",
        "colab": {
          "base_uri": "https://localhost:8080/",
          "height": 87
        },
        "outputId": "9dd80051-c1a7-4d90-9d9a-bee0b3c0d1ab"
      },
      "source": [
        "generate_time_series(4,5)\n",
        "np.newaxis"
      ],
      "execution_count": 42,
      "outputs": [
        {
          "output_type": "stream",
          "text": [
            "[[ 0.04704501  0.12333699 -0.29844258  0.14590388  0.12549437]\n",
            " [-0.68745107 -0.04065135  0.19740275  0.40778712 -0.10071406]\n",
            " [-0.62900131  0.23510306  0.18915201 -0.0835302   0.31807856]\n",
            " [ 0.10320698 -0.27524725 -0.09219838  0.33668047  0.11256098]]\n"
          ],
          "name": "stdout"
        }
      ]
    }
  ]
}