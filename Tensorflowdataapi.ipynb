{
  "nbformat": 4,
  "nbformat_minor": 0,
  "metadata": {
    "colab": {
      "name": "Tensorflowdataapi.ipynb",
      "provenance": [],
      "collapsed_sections": [],
      "authorship_tag": "ABX9TyNTc5yoI8vJG5hzJbsehV0j",
      "include_colab_link": true
    },
    "kernelspec": {
      "name": "python3",
      "display_name": "Python 3"
    }
  },
  "cells": [
    {
      "cell_type": "markdown",
      "metadata": {
        "id": "view-in-github",
        "colab_type": "text"
      },
      "source": [
        "<a href=\"https://colab.research.google.com/github/sf-rahul/Tensorflow/blob/master/Tensorflowdataapi.ipynb\" target=\"_parent\"><img src=\"https://colab.research.google.com/assets/colab-badge.svg\" alt=\"Open In Colab\"/></a>"
      ]
    },
    {
      "cell_type": "code",
      "metadata": {
        "id": "doE6cHzkIoUJ",
        "colab_type": "code",
        "colab": {
          "base_uri": "https://localhost:8080/",
          "height": 34
        },
        "outputId": "bca630ca-fae4-400c-d15e-5475fc1d1b4c"
      },
      "source": [
        "from __future__ import absolute_import, division, print_function, unicode_literals\n",
        "try:\n",
        "  %tensorflow_version 2.x\n",
        "except Exception:\n",
        "  pass\n",
        "import tensorflow as tf"
      ],
      "execution_count": 2,
      "outputs": [
        {
          "output_type": "stream",
          "text": [
            "TensorFlow 2.x selected.\n"
          ],
          "name": "stdout"
        }
      ]
    },
    {
      "cell_type": "code",
      "metadata": {
        "id": "T4fr3Ws6JkU7",
        "colab_type": "code",
        "colab": {}
      },
      "source": [
        "import pathlib\n",
        "import matplotlib.pyplot as plt\n",
        "import pandas as pd\n",
        "import numpy as np\n",
        "\n",
        "np.set_printoptions(precision=4)"
      ],
      "execution_count": 0,
      "outputs": []
    },
    {
      "cell_type": "code",
      "metadata": {
        "id": "tYQqP7t2KFgj",
        "colab_type": "code",
        "colab": {
          "base_uri": "https://localhost:8080/",
          "height": 102
        },
        "outputId": "274b9a8e-4106-44b2-cb38-bfa9a290eafd"
      },
      "source": [
        "dataset = tf.data.Dataset.from_tensor_slices([8,2,0,1,4])\n",
        "dataset\n",
        "#printing tensor data and numpy data.\n",
        "#dataset element is tesorflow wrapper.\n",
        "for ele in dataset:\n",
        "  print(ele,ele.numpy())"
      ],
      "execution_count": 9,
      "outputs": [
        {
          "output_type": "stream",
          "text": [
            "tf.Tensor(8, shape=(), dtype=int32) 8\n",
            "tf.Tensor(2, shape=(), dtype=int32) 2\n",
            "tf.Tensor(0, shape=(), dtype=int32) 0\n",
            "tf.Tensor(1, shape=(), dtype=int32) 1\n",
            "tf.Tensor(4, shape=(), dtype=int32) 4\n"
          ],
          "name": "stdout"
        }
      ]
    },
    {
      "cell_type": "code",
      "metadata": {
        "id": "MwwOkCfiK1b7",
        "colab_type": "code",
        "colab": {
          "base_uri": "https://localhost:8080/",
          "height": 34
        },
        "outputId": "c48333e7-6b4d-4562-8f95-306db2abc645"
      },
      "source": [
        "#reduce fucntion to reduce it to some value \n",
        "print(dataset.reduce(0,lambda state,value:state+value).numpy())\n"
      ],
      "execution_count": 12,
      "outputs": [
        {
          "output_type": "stream",
          "text": [
            "15\n"
          ],
          "name": "stdout"
        }
      ]
    },
    {
      "cell_type": "code",
      "metadata": {
        "id": "mGOVdMI7MG5l",
        "colab_type": "code",
        "colab": {
          "base_uri": "https://localhost:8080/",
          "height": 34
        },
        "outputId": "9eeaa29f-28be-40f5-b033-6bc5df9626ee"
      },
      "source": [
        "dataset1 = tf.data.Dataset.from_tensor_slices(tf.random.uniform([4,5]))\n",
        "dataset1.element_spec"
      ],
      "execution_count": 21,
      "outputs": [
        {
          "output_type": "execute_result",
          "data": {
            "text/plain": [
              "TensorSpec(shape=(5,), dtype=tf.float32, name=None)"
            ]
          },
          "metadata": {
            "tags": []
          },
          "execution_count": 21
        }
      ]
    },
    {
      "cell_type": "code",
      "metadata": {
        "id": "cd5l4UwAN627",
        "colab_type": "code",
        "colab": {
          "base_uri": "https://localhost:8080/",
          "height": 238
        },
        "outputId": "6d99559d-7bc8-4b42-cbd4-612b53be71f6"
      },
      "source": [
        "dataset2 = tf.data.Dataset.from_tensor_slices((tf.random.uniform([4]),tf.random.uniform([4,100],maxval=100)))\n",
        "dataset2.element_spec\n",
        "for ele in dataset2.take(1):\n",
        "  for e in ele:\n",
        "    print(e.numpy())"
      ],
      "execution_count": 61,
      "outputs": [
        {
          "output_type": "stream",
          "text": [
            "0.60173416\n",
            "[63.5118 62.156  12.8776 93.8164 59.7308 21.2788 24.8625 62.4493 99.9582\n",
            " 48.187  40.7156 62.5536 33.9357 79.8998 48.9981 78.8941 15.1025 72.7195\n",
            " 97.4353 90.0012 55.0926 30.4078 36.0097 21.658  21.8207 42.5427 39.5621\n",
            " 83.2731 77.4293 74.0173 84.1409 51.8597  2.3019 85.912  30.0217 15.1053\n",
            " 73.5846 44.6604 39.5869 24.8982 58.5839 53.2192 78.9813 21.1278 85.6166\n",
            " 90.8856  3.8848 56.6932 30.8108 34.8814 28.7307 72.2025 57.1803 13.2128\n",
            " 91.4134 46.5819 29.6913 21.4828 11.3359 39.8812 73.7733 85.4941 28.0455\n",
            " 27.5746 78.8339 58.4569 10.668  80.3114 41.7379 12.9859 56.4426 69.8681\n",
            " 19.0591 32.1848 51.4844 42.3438 58.7413 39.7561 80.9301 78.54   30.6349\n",
            " 41.4641 70.8692 53.7085 62.5047 17.7386 94.8922 19.8517  2.9227 20.7544\n",
            " 88.7047 70.6419 73.4046 91.7472 95.141   8.4531 48.7266 40.1303 13.5189\n",
            " 71.2901]\n"
          ],
          "name": "stdout"
        }
      ]
    },
    {
      "cell_type": "code",
      "metadata": {
        "id": "Kw6qkWuIVp3J",
        "colab_type": "code",
        "colab": {
          "base_uri": "https://localhost:8080/",
          "height": 68
        },
        "outputId": "3fcd46ae-381d-4dde-dc7b-9f2676262b5a"
      },
      "source": [
        "dataset3 = tf.data.Dataset.zip((dataset1,dataset2))\n",
        "dataset3.element_spec\n"
      ],
      "execution_count": 69,
      "outputs": [
        {
          "output_type": "execute_result",
          "data": {
            "text/plain": [
              "(TensorSpec(shape=(5,), dtype=tf.float32, name=None),\n",
              " (TensorSpec(shape=(), dtype=tf.float32, name=None),\n",
              "  TensorSpec(shape=(100,), dtype=tf.float32, name=None)))"
            ]
          },
          "metadata": {
            "tags": []
          },
          "execution_count": 69
        }
      ]
    }
  ]
}