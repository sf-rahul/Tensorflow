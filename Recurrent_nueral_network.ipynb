{
  "nbformat": 4,
  "nbformat_minor": 0,
  "metadata": {
    "colab": {
      "name": "Recurrent nueral network.ipynb",
      "provenance": [],
      "collapsed_sections": [],
      "authorship_tag": "ABX9TyNgduTzogOZ5Ug+bWw2wpr5",
      "include_colab_link": true
    },
    "kernelspec": {
      "name": "python3",
      "display_name": "Python 3"
    }
  },
  "cells": [
    {
      "cell_type": "markdown",
      "metadata": {
        "id": "view-in-github",
        "colab_type": "text"
      },
      "source": [
        "<a href=\"https://colab.research.google.com/github/sf-rahul/Tensorflow/blob/master/Recurrent_nueral_network.ipynb\" target=\"_parent\"><img src=\"https://colab.research.google.com/assets/colab-badge.svg\" alt=\"Open In Colab\"/></a>"
      ]
    },
    {
      "cell_type": "markdown",
      "metadata": {
        "id": "xVCaeE341PSA",
        "colab_type": "text"
      },
      "source": [
        "**time series forecasting using rnns.**"
      ]
    },
    {
      "cell_type": "code",
      "metadata": {
        "id": "xdVkGp34FRNj",
        "colab_type": "code",
        "colab": {}
      },
      "source": [
        "#rnnn\n",
        "from __future__ import absolute_import, division, print_function, unicode_literals\n",
        "\n",
        "try:\n",
        "  # %tensorflow_version only exists in Colab.\n",
        "  %tensorflow_version 2.x\n",
        "except Exception:\n",
        "  pass\n",
        "import tensorflow as tf\n",
        "\n",
        "import numpy as np\n",
        "import os\n",
        "import time\n",
        "\n",
        "tf.random.set_seed(1)"
      ],
      "execution_count": 0,
      "outputs": []
    },
    {
      "cell_type": "code",
      "metadata": {
        "id": "At12fr4xFapl",
        "colab_type": "code",
        "colab": {}
      },
      "source": [
        "#function to create time series data of length n_steps\n",
        "#input to the rnn is [batch_size, time steps , dimensionality]\n",
        "#a time series is cosistting of values having per time step\n",
        "#value is univariabte then it is calles univariate time series\n",
        "#value is multivariate then it is calles multivariate time series.\n",
        "def generate_time_series(batch_size,n_steps):\n",
        "  freq1,freq2,offset1,offset2 = np.random.rand(4,batch_size,1)#4 random array of shape (batch_size,1)\n",
        "  time = np.linspace(0,1,n_steps)\n",
        "  series = 0.5  * np.sin((time-offset1) * (freq1*10+10)) #wave1\n",
        "  series+= 0.2 * np.sin((time-offset2) * (freq2*20 +20)) #+wave2\n",
        "  series +=0.1*(np.random.rand(batch_size,n_steps) - 0.5) #+noise\n",
        "  #print(series)\n",
        "  #to add new axis to data.\n",
        "  return series[...,np.newaxis].astype(np.float32)\n",
        "\n",
        "\n"
      ],
      "execution_count": 0,
      "outputs": []
    },
    {
      "cell_type": "code",
      "metadata": {
        "id": "nyPGB2QWGB6p",
        "colab_type": "code",
        "outputId": "e184eb52-4890-4bc6-9937-e9d57cd4a451",
        "colab": {
          "base_uri": "https://localhost:8080/",
          "height": 514
        }
      },
      "source": [
        "series = generate_time_series(4,3) #shape(4,2,1)\n",
        "print(series)\n",
        "print('--------------')\n",
        "x,y=series[:3,:2],series[:3,-1]\n",
        "print(x)\n",
        "print('------------------')\n",
        "print(y)\n"
      ],
      "execution_count": 0,
      "outputs": [
        {
          "output_type": "stream",
          "text": [
            "[[[-0.09269179]\n",
            "  [-0.27487454]\n",
            "  [ 0.26764813]]\n",
            "\n",
            " [[-0.3955232 ]\n",
            "  [-0.47525486]\n",
            "  [-0.3857966 ]]\n",
            "\n",
            " [[ 0.58213425]\n",
            "  [ 0.49402696]\n",
            "  [ 0.30883703]]\n",
            "\n",
            " [[ 0.3142075 ]\n",
            "  [ 0.546498  ]\n",
            "  [ 0.05040054]]]\n",
            "--------------\n",
            "[[[-0.09269179]\n",
            "  [-0.27487454]]\n",
            "\n",
            " [[-0.3955232 ]\n",
            "  [-0.47525486]]\n",
            "\n",
            " [[ 0.58213425]\n",
            "  [ 0.49402696]]]\n",
            "------------------\n",
            "[[ 0.26764813]\n",
            " [-0.3857966 ]\n",
            " [ 0.30883703]]\n"
          ],
          "name": "stdout"
        }
      ]
    },
    {
      "cell_type": "code",
      "metadata": {
        "id": "1EfYnnijNfpV",
        "colab_type": "code",
        "colab": {}
      },
      "source": [
        "#creating training , validation and test sets\n",
        "n_steps =50 #no of time stamps or steps  in a time series \n",
        "series = generate_time_series(10000,n_steps+1)\n",
        "X_train ,y_train = series[:7000,:n_steps],series[:7000,-1]\n",
        "X_valid,y_valid = series[7000:9000,:n_steps],series[7000:9000,-1]\n",
        "X_test,y_test = series[9000:,:n_steps],series[9000:,-1]\n"
      ],
      "execution_count": 0,
      "outputs": []
    },
    {
      "cell_type": "code",
      "metadata": {
        "id": "KnEYHgzuQH3z",
        "colab_type": "code",
        "outputId": "4721be4b-dc5d-4be4-ea06-a202dafbdada",
        "colab": {
          "base_uri": "https://localhost:8080/",
          "height": 70
        }
      },
      "source": [
        "print(X_train.shape,y_train.shape)\n",
        "print(X_valid.shape,y_valid.shape)\n",
        "print(X_test.shape,y_test.shape)"
      ],
      "execution_count": 4,
      "outputs": [
        {
          "output_type": "stream",
          "text": [
            "(7000, 50, 1) (7000, 1)\n",
            "(2000, 50, 1) (2000, 1)\n",
            "(1000, 50, 1) (1000, 1)\n"
          ],
          "name": "stdout"
        }
      ]
    },
    {
      "cell_type": "code",
      "metadata": {
        "id": "Hiq3G71y0ui9",
        "colab_type": "code",
        "outputId": "e96a6ddc-acba-458f-a5bb-b83b0f43288a",
        "colab": {
          "base_uri": "https://localhost:8080/",
          "height": 34
        }
      },
      "source": [
        "#Baseline model 1. \n",
        "#naive forecasting := predict the last value in each series.\n",
        "#just pick the last value as predicted value.\n",
        "y_pred = X_valid[:,-1]\n",
        "np.mean(tf.keras.losses.mean_squared_error(y_valid,y_pred))"
      ],
      "execution_count": 0,
      "outputs": [
        {
          "output_type": "execute_result",
          "data": {
            "text/plain": [
              "0.020904407"
            ]
          },
          "metadata": {
            "tags": []
          },
          "execution_count": 5
        }
      ]
    },
    {
      "cell_type": "code",
      "metadata": {
        "id": "us8dzj3C2bxo",
        "colab_type": "code",
        "colab": {}
      },
      "source": [
        "#Baseline model 2\n",
        "#use a fully connected network.\n",
        "#the input will be flattene to 50*1 = 50 features(time steps)\n",
        "#predictin will be simply linear compination of the time step values.\n",
        "model2 = tf.keras.models.Sequential([tf.keras.layers.Flatten(input_shape=[50,1]),\n",
        "                                     tf.keras.layers.Dense(1)])\n",
        "\n"
      ],
      "execution_count": 0,
      "outputs": []
    },
    {
      "cell_type": "code",
      "metadata": {
        "id": "do6XRyAo4MZ9",
        "colab_type": "code",
        "outputId": "bcbd3bb8-fdca-4e94-9a9c-83b2a89fbf5a",
        "colab": {
          "base_uri": "https://localhost:8080/",
          "height": 230
        }
      },
      "source": [
        "model2.summary()"
      ],
      "execution_count": 0,
      "outputs": [
        {
          "output_type": "stream",
          "text": [
            "Model: \"sequential\"\n",
            "_________________________________________________________________\n",
            "Layer (type)                 Output Shape              Param #   \n",
            "=================================================================\n",
            "flatten_1 (Flatten)          (None, 50)                0         \n",
            "_________________________________________________________________\n",
            "dense (Dense)                (None, 1)                 51        \n",
            "=================================================================\n",
            "Total params: 51\n",
            "Trainable params: 51\n",
            "Non-trainable params: 0\n",
            "_________________________________________________________________\n"
          ],
          "name": "stdout"
        }
      ]
    },
    {
      "cell_type": "code",
      "metadata": {
        "id": "yKyDqNca4V8B",
        "colab_type": "code",
        "colab": {}
      },
      "source": [
        "model2.compile(optimizer='adam', loss='mse')"
      ],
      "execution_count": 0,
      "outputs": []
    },
    {
      "cell_type": "code",
      "metadata": {
        "id": "MDNYctwJ4nJ8",
        "colab_type": "code",
        "outputId": "b08cc710-8814-4796-ca9a-49e41f30bb9f",
        "colab": {
          "base_uri": "https://localhost:8080/",
          "height": 763
        }
      },
      "source": [
        "model2.fit(x=X_train,y=y_train,epochs=20,validation_data=(X_valid,y_valid))"
      ],
      "execution_count": 0,
      "outputs": [
        {
          "output_type": "stream",
          "text": [
            "Train on 7000 samples, validate on 2000 samples\n",
            "Epoch 1/20\n",
            "7000/7000 [==============================] - 1s 105us/sample - loss: 0.0883 - val_loss: 0.0373\n",
            "Epoch 2/20\n",
            "7000/7000 [==============================] - 0s 49us/sample - loss: 0.0255 - val_loss: 0.0185\n",
            "Epoch 3/20\n",
            "7000/7000 [==============================] - 0s 50us/sample - loss: 0.0152 - val_loss: 0.0129\n",
            "Epoch 4/20\n",
            "7000/7000 [==============================] - 0s 50us/sample - loss: 0.0116 - val_loss: 0.0105\n",
            "Epoch 5/20\n",
            "7000/7000 [==============================] - 0s 49us/sample - loss: 0.0097 - val_loss: 0.0091\n",
            "Epoch 6/20\n",
            "7000/7000 [==============================] - 0s 50us/sample - loss: 0.0083 - val_loss: 0.0079\n",
            "Epoch 7/20\n",
            "7000/7000 [==============================] - 0s 48us/sample - loss: 0.0073 - val_loss: 0.0070\n",
            "Epoch 8/20\n",
            "7000/7000 [==============================] - 0s 46us/sample - loss: 0.0065 - val_loss: 0.0062\n",
            "Epoch 9/20\n",
            "7000/7000 [==============================] - 0s 48us/sample - loss: 0.0058 - val_loss: 0.0056\n",
            "Epoch 10/20\n",
            "7000/7000 [==============================] - 0s 50us/sample - loss: 0.0053 - val_loss: 0.0052\n",
            "Epoch 11/20\n",
            "7000/7000 [==============================] - 0s 48us/sample - loss: 0.0049 - val_loss: 0.0048\n",
            "Epoch 12/20\n",
            "7000/7000 [==============================] - 0s 50us/sample - loss: 0.0046 - val_loss: 0.0047\n",
            "Epoch 13/20\n",
            "7000/7000 [==============================] - 0s 48us/sample - loss: 0.0044 - val_loss: 0.0044\n",
            "Epoch 14/20\n",
            "7000/7000 [==============================] - 0s 48us/sample - loss: 0.0042 - val_loss: 0.0043\n",
            "Epoch 15/20\n",
            "7000/7000 [==============================] - 0s 51us/sample - loss: 0.0040 - val_loss: 0.0041\n",
            "Epoch 16/20\n",
            "7000/7000 [==============================] - 0s 48us/sample - loss: 0.0039 - val_loss: 0.0041\n",
            "Epoch 17/20\n",
            "7000/7000 [==============================] - 0s 47us/sample - loss: 0.0038 - val_loss: 0.0040\n",
            "Epoch 18/20\n",
            "7000/7000 [==============================] - 0s 48us/sample - loss: 0.0037 - val_loss: 0.0039\n",
            "Epoch 19/20\n",
            "7000/7000 [==============================] - 0s 49us/sample - loss: 0.0037 - val_loss: 0.0039\n",
            "Epoch 20/20\n",
            "7000/7000 [==============================] - 0s 49us/sample - loss: 0.0036 - val_loss: 0.0038\n"
          ],
          "name": "stdout"
        },
        {
          "output_type": "execute_result",
          "data": {
            "text/plain": [
              "<tensorflow.python.keras.callbacks.History at 0x7f13ba5308d0>"
            ]
          },
          "metadata": {
            "tags": []
          },
          "execution_count": 8
        }
      ]
    },
    {
      "cell_type": "markdown",
      "metadata": {
        "id": "4VfD8NEW5P5q",
        "colab_type": "text"
      },
      "source": [
        "**IMPLEMENTING SIMPLE RNN**"
      ]
    },
    {
      "cell_type": "code",
      "metadata": {
        "id": "JQWr7Q6E5WDO",
        "colab_type": "code",
        "colab": {}
      },
      "source": [
        "SimpleRnn = tf.keras.models.Sequential([\n",
        "                                        tf.keras.layers.SimpleRNN(1,input_shape=[None,1])\n",
        "                       ])"
      ],
      "execution_count": 0,
      "outputs": []
    },
    {
      "cell_type": "code",
      "metadata": {
        "id": "bgDSfrRL6LJO",
        "colab_type": "code",
        "outputId": "5412d56a-4d5d-425a-c59c-13833b0e4eca",
        "colab": {
          "base_uri": "https://localhost:8080/",
          "height": 194
        }
      },
      "source": [
        "SimpleRnn.summary()"
      ],
      "execution_count": 0,
      "outputs": [
        {
          "output_type": "stream",
          "text": [
            "Model: \"sequential_3\"\n",
            "_________________________________________________________________\n",
            "Layer (type)                 Output Shape              Param #   \n",
            "=================================================================\n",
            "simple_rnn_2 (SimpleRNN)     (None, 1)                 3         \n",
            "=================================================================\n",
            "Total params: 3\n",
            "Trainable params: 3\n",
            "Non-trainable params: 0\n",
            "_________________________________________________________________\n"
          ],
          "name": "stdout"
        }
      ]
    },
    {
      "cell_type": "code",
      "metadata": {
        "id": "_VfwOdsm8Eut",
        "colab_type": "code",
        "outputId": "bf4361e4-8d7f-49bc-e34f-546bf1e413db",
        "colab": {
          "base_uri": "https://localhost:8080/",
          "height": 763
        }
      },
      "source": [
        "SimpleRnn.compile(optimizer='adam',loss='mse')\n",
        "SimpleRnn.fit(x=X_train,y=y_train,epochs=20,validation_data=(X_valid,y_valid))"
      ],
      "execution_count": 0,
      "outputs": [
        {
          "output_type": "stream",
          "text": [
            "Train on 7000 samples, validate on 2000 samples\n",
            "Epoch 1/20\n",
            "7000/7000 [==============================] - 3s 387us/sample - loss: 0.2219 - val_loss: 0.2026\n",
            "Epoch 2/20\n",
            "7000/7000 [==============================] - 2s 281us/sample - loss: 0.1850 - val_loss: 0.1682\n",
            "Epoch 3/20\n",
            "7000/7000 [==============================] - 2s 278us/sample - loss: 0.1554 - val_loss: 0.1413\n",
            "Epoch 4/20\n",
            "7000/7000 [==============================] - 2s 283us/sample - loss: 0.1316 - val_loss: 0.1186\n",
            "Epoch 5/20\n",
            "7000/7000 [==============================] - 2s 285us/sample - loss: 0.1089 - val_loss: 0.0963\n",
            "Epoch 6/20\n",
            "7000/7000 [==============================] - 2s 286us/sample - loss: 0.0875 - val_loss: 0.0769\n",
            "Epoch 7/20\n",
            "7000/7000 [==============================] - 2s 283us/sample - loss: 0.0690 - val_loss: 0.0601\n",
            "Epoch 8/20\n",
            "7000/7000 [==============================] - 2s 284us/sample - loss: 0.0533 - val_loss: 0.0459\n",
            "Epoch 9/20\n",
            "7000/7000 [==============================] - 2s 281us/sample - loss: 0.0402 - val_loss: 0.0343\n",
            "Epoch 10/20\n",
            "7000/7000 [==============================] - 2s 278us/sample - loss: 0.0298 - val_loss: 0.0255\n",
            "Epoch 11/20\n",
            "7000/7000 [==============================] - 2s 291us/sample - loss: 0.0223 - val_loss: 0.0194\n",
            "Epoch 12/20\n",
            "7000/7000 [==============================] - 2s 293us/sample - loss: 0.0173 - val_loss: 0.0156\n",
            "Epoch 13/20\n",
            "7000/7000 [==============================] - 2s 286us/sample - loss: 0.0144 - val_loss: 0.0136\n",
            "Epoch 14/20\n",
            "7000/7000 [==============================] - 2s 286us/sample - loss: 0.0129 - val_loss: 0.0126\n",
            "Epoch 15/20\n",
            "7000/7000 [==============================] - 2s 288us/sample - loss: 0.0122 - val_loss: 0.0122\n",
            "Epoch 16/20\n",
            "7000/7000 [==============================] - 2s 296us/sample - loss: 0.0119 - val_loss: 0.0120\n",
            "Epoch 17/20\n",
            "7000/7000 [==============================] - 2s 302us/sample - loss: 0.0118 - val_loss: 0.0119\n",
            "Epoch 18/20\n",
            "7000/7000 [==============================] - 2s 298us/sample - loss: 0.0117 - val_loss: 0.0119\n",
            "Epoch 19/20\n",
            "7000/7000 [==============================] - 2s 294us/sample - loss: 0.0116 - val_loss: 0.0118\n",
            "Epoch 20/20\n",
            "7000/7000 [==============================] - 2s 290us/sample - loss: 0.0115 - val_loss: 0.0117\n"
          ],
          "name": "stdout"
        },
        {
          "output_type": "execute_result",
          "data": {
            "text/plain": [
              "<tensorflow.python.keras.callbacks.History at 0x7f13b8a55278>"
            ]
          },
          "metadata": {
            "tags": []
          },
          "execution_count": 15
        }
      ]
    },
    {
      "cell_type": "code",
      "metadata": {
        "id": "bLhsDdmw9U0U",
        "colab_type": "code",
        "colab": {}
      },
      "source": [
        "#The simple rnn is better than the naive one but not than the fully connected one."
      ],
      "execution_count": 0,
      "outputs": []
    },
    {
      "cell_type": "markdown",
      "metadata": {
        "id": "E2aQGEqe9YxY",
        "colab_type": "text"
      },
      "source": [
        "**DEEP RNNS**\n",
        "Stack multiple layers of the cells."
      ]
    },
    {
      "cell_type": "code",
      "metadata": {
        "id": "29uaEE4_9oqL",
        "colab_type": "code",
        "colab": {}
      },
      "source": [
        "DeepRnn = tf.keras.models.Sequential([\n",
        "                                 tf.keras.layers.SimpleRNN(20,return_sequences=True,input_shape=[None,1]),\n",
        "                                 tf.keras.layers.SimpleRNN(20,return_sequences=True),\n",
        "                                 tf.keras.layers.SimpleRNN(1)\n",
        "\n",
        " ])"
      ],
      "execution_count": 0,
      "outputs": []
    },
    {
      "cell_type": "code",
      "metadata": {
        "id": "weWm7TAp-x2C",
        "colab_type": "code",
        "outputId": "44c516a0-7873-42bf-9c72-3f9922d471e9",
        "colab": {
          "base_uri": "https://localhost:8080/",
          "height": 265
        }
      },
      "source": [
        "DeepRnn.summary()"
      ],
      "execution_count": 0,
      "outputs": [
        {
          "output_type": "stream",
          "text": [
            "Model: \"sequential_4\"\n",
            "_________________________________________________________________\n",
            "Layer (type)                 Output Shape              Param #   \n",
            "=================================================================\n",
            "simple_rnn_3 (SimpleRNN)     (None, None, 20)          440       \n",
            "_________________________________________________________________\n",
            "simple_rnn_4 (SimpleRNN)     (None, None, 20)          820       \n",
            "_________________________________________________________________\n",
            "simple_rnn_5 (SimpleRNN)     (None, 1)                 22        \n",
            "=================================================================\n",
            "Total params: 1,282\n",
            "Trainable params: 1,282\n",
            "Non-trainable params: 0\n",
            "_________________________________________________________________\n"
          ],
          "name": "stdout"
        }
      ]
    },
    {
      "cell_type": "code",
      "metadata": {
        "id": "-TOTRgqef_sJ",
        "colab_type": "code",
        "outputId": "8376972c-9a18-48dd-9f49-d309027facda",
        "colab": {
          "base_uri": "https://localhost:8080/",
          "height": 763
        }
      },
      "source": [
        "DeepRnn.compile(optimizer='adam',loss='mse')\n",
        "DeepRnn.fit(x=X_train,y=y_train,epochs=20,validation_data=(X_valid,y_valid))"
      ],
      "execution_count": 0,
      "outputs": [
        {
          "output_type": "stream",
          "text": [
            "Train on 7000 samples, validate on 2000 samples\n",
            "Epoch 1/20\n",
            "7000/7000 [==============================] - 8s 1ms/sample - loss: 0.0189 - val_loss: 0.0052\n",
            "Epoch 2/20\n",
            "7000/7000 [==============================] - 7s 930us/sample - loss: 0.0042 - val_loss: 0.0038\n",
            "Epoch 3/20\n",
            "7000/7000 [==============================] - 6s 921us/sample - loss: 0.0034 - val_loss: 0.0034\n",
            "Epoch 4/20\n",
            "7000/7000 [==============================] - 6s 908us/sample - loss: 0.0031 - val_loss: 0.0032\n",
            "Epoch 5/20\n",
            "7000/7000 [==============================] - 6s 907us/sample - loss: 0.0030 - val_loss: 0.0031\n",
            "Epoch 6/20\n",
            "7000/7000 [==============================] - 6s 907us/sample - loss: 0.0029 - val_loss: 0.0031\n",
            "Epoch 7/20\n",
            "7000/7000 [==============================] - 6s 918us/sample - loss: 0.0028 - val_loss: 0.0031\n",
            "Epoch 8/20\n",
            "7000/7000 [==============================] - 6s 914us/sample - loss: 0.0028 - val_loss: 0.0029\n",
            "Epoch 9/20\n",
            "7000/7000 [==============================] - 6s 924us/sample - loss: 0.0027 - val_loss: 0.0030\n",
            "Epoch 10/20\n",
            "7000/7000 [==============================] - 6s 918us/sample - loss: 0.0027 - val_loss: 0.0029\n",
            "Epoch 11/20\n",
            "7000/7000 [==============================] - 6s 926us/sample - loss: 0.0027 - val_loss: 0.0033\n",
            "Epoch 12/20\n",
            "7000/7000 [==============================] - 7s 936us/sample - loss: 0.0027 - val_loss: 0.0029\n",
            "Epoch 13/20\n",
            "7000/7000 [==============================] - 6s 923us/sample - loss: 0.0027 - val_loss: 0.0028\n",
            "Epoch 14/20\n",
            "7000/7000 [==============================] - 6s 921us/sample - loss: 0.0027 - val_loss: 0.0027\n",
            "Epoch 15/20\n",
            "7000/7000 [==============================] - 6s 927us/sample - loss: 0.0026 - val_loss: 0.0032\n",
            "Epoch 16/20\n",
            "7000/7000 [==============================] - 6s 921us/sample - loss: 0.0027 - val_loss: 0.0028\n",
            "Epoch 17/20\n",
            "7000/7000 [==============================] - 6s 920us/sample - loss: 0.0026 - val_loss: 0.0027\n",
            "Epoch 18/20\n",
            "7000/7000 [==============================] - 6s 925us/sample - loss: 0.0026 - val_loss: 0.0027\n",
            "Epoch 19/20\n",
            "7000/7000 [==============================] - 6s 922us/sample - loss: 0.0026 - val_loss: 0.0029\n",
            "Epoch 20/20\n",
            "7000/7000 [==============================] - 6s 924us/sample - loss: 0.0026 - val_loss: 0.0028\n"
          ],
          "name": "stdout"
        },
        {
          "output_type": "execute_result",
          "data": {
            "text/plain": [
              "<tensorflow.python.keras.callbacks.History at 0x7f13b7ec4c88>"
            ]
          },
          "metadata": {
            "tags": []
          },
          "execution_count": 18
        }
      ]
    },
    {
      "cell_type": "code",
      "metadata": {
        "id": "hGe_G1DeiDw-",
        "colab_type": "code",
        "colab": {}
      },
      "source": [
        "#A slight improvement in running time.\n",
        "DeepRnn = tf.keras.models.Sequential([\n",
        "                                 tf.keras.layers.SimpleRNN(20,return_sequences=True,input_shape=[None,1]),\n",
        "                                 tf.keras.layers.SimpleRNN(20),\n",
        "                                 tf.keras.layers.Dense(1)\n",
        "\n",
        " ])\n",
        "DeepRnn.compile(optimizer='adam',loss='mse')\n"
      ],
      "execution_count": 0,
      "outputs": []
    },
    {
      "cell_type": "code",
      "metadata": {
        "id": "CkmIymkXmkgU",
        "colab_type": "code",
        "outputId": "f31f5f5e-bcb2-41d9-c945-d033c00362f7",
        "colab": {
          "base_uri": "https://localhost:8080/",
          "height": 265
        }
      },
      "source": [
        "DeepRnn.summary()"
      ],
      "execution_count": 53,
      "outputs": [
        {
          "output_type": "stream",
          "text": [
            "Model: \"sequential_1\"\n",
            "_________________________________________________________________\n",
            "Layer (type)                 Output Shape              Param #   \n",
            "=================================================================\n",
            "simple_rnn_2 (SimpleRNN)     (None, None, 20)          440       \n",
            "_________________________________________________________________\n",
            "simple_rnn_3 (SimpleRNN)     (None, 20)                820       \n",
            "_________________________________________________________________\n",
            "dense_1 (Dense)              (None, 1)                 21        \n",
            "=================================================================\n",
            "Total params: 1,281\n",
            "Trainable params: 1,281\n",
            "Non-trainable params: 0\n",
            "_________________________________________________________________\n"
          ],
          "name": "stdout"
        }
      ]
    },
    {
      "cell_type": "code",
      "metadata": {
        "id": "AXga1GS3moRf",
        "colab_type": "code",
        "outputId": "7a3d5edc-dfde-44f4-bba7-fcaee0e818ae",
        "colab": {
          "base_uri": "https://localhost:8080/",
          "height": 763
        }
      },
      "source": [
        "DeepRnn.fit(x=X_train,y=y_train,epochs=20,validation_data=(X_valid,y_valid))"
      ],
      "execution_count": 54,
      "outputs": [
        {
          "output_type": "stream",
          "text": [
            "Train on 7000 samples, validate on 2000 samples\n",
            "Epoch 1/20\n",
            "7000/7000 [==============================] - 6s 834us/sample - loss: 0.0248 - val_loss: 0.0051\n",
            "Epoch 2/20\n",
            "7000/7000 [==============================] - 4s 637us/sample - loss: 0.0040 - val_loss: 0.0035\n",
            "Epoch 3/20\n",
            "7000/7000 [==============================] - 5s 666us/sample - loss: 0.0033 - val_loss: 0.0033\n",
            "Epoch 4/20\n",
            "7000/7000 [==============================] - 5s 652us/sample - loss: 0.0032 - val_loss: 0.0032\n",
            "Epoch 5/20\n",
            "7000/7000 [==============================] - 5s 663us/sample - loss: 0.0030 - val_loss: 0.0032\n",
            "Epoch 6/20\n",
            "7000/7000 [==============================] - 5s 648us/sample - loss: 0.0030 - val_loss: 0.0031\n",
            "Epoch 7/20\n",
            "7000/7000 [==============================] - 4s 641us/sample - loss: 0.0030 - val_loss: 0.0029\n",
            "Epoch 8/20\n",
            "7000/7000 [==============================] - 5s 653us/sample - loss: 0.0029 - val_loss: 0.0031\n",
            "Epoch 9/20\n",
            "7000/7000 [==============================] - 4s 636us/sample - loss: 0.0029 - val_loss: 0.0029\n",
            "Epoch 10/20\n",
            "7000/7000 [==============================] - 5s 644us/sample - loss: 0.0029 - val_loss: 0.0028\n",
            "Epoch 11/20\n",
            "7000/7000 [==============================] - 5s 652us/sample - loss: 0.0029 - val_loss: 0.0029\n",
            "Epoch 12/20\n",
            "7000/7000 [==============================] - 5s 658us/sample - loss: 0.0028 - val_loss: 0.0029\n",
            "Epoch 13/20\n",
            "7000/7000 [==============================] - 4s 642us/sample - loss: 0.0028 - val_loss: 0.0032\n",
            "Epoch 14/20\n",
            "7000/7000 [==============================] - 4s 633us/sample - loss: 0.0028 - val_loss: 0.0029\n",
            "Epoch 15/20\n",
            "7000/7000 [==============================] - 4s 637us/sample - loss: 0.0028 - val_loss: 0.0029\n",
            "Epoch 16/20\n",
            "7000/7000 [==============================] - 4s 634us/sample - loss: 0.0028 - val_loss: 0.0029\n",
            "Epoch 17/20\n",
            "7000/7000 [==============================] - 5s 660us/sample - loss: 0.0028 - val_loss: 0.0028\n",
            "Epoch 18/20\n",
            "7000/7000 [==============================] - 5s 673us/sample - loss: 0.0028 - val_loss: 0.0027\n",
            "Epoch 19/20\n",
            "7000/7000 [==============================] - 5s 651us/sample - loss: 0.0028 - val_loss: 0.0027\n",
            "Epoch 20/20\n",
            "7000/7000 [==============================] - 4s 642us/sample - loss: 0.0027 - val_loss: 0.0030\n"
          ],
          "name": "stdout"
        },
        {
          "output_type": "execute_result",
          "data": {
            "text/plain": [
              "<tensorflow.python.keras.callbacks.History at 0x7fef1e97b4a8>"
            ]
          },
          "metadata": {
            "tags": []
          },
          "execution_count": 54
        }
      ]
    },
    {
      "cell_type": "code",
      "metadata": {
        "id": "a2LeQFGPj9KV",
        "colab_type": "code",
        "outputId": "e2e534ae-48c9-41aa-eb2f-73058d7c153f",
        "colab": {
          "base_uri": "https://localhost:8080/",
          "height": 34
        }
      },
      "source": [
        ""
      ],
      "execution_count": 0,
      "outputs": [
        {
          "output_type": "execute_result",
          "data": {
            "text/plain": [
              "array([[[20, 21, 22]]])"
            ]
          },
          "metadata": {
            "tags": []
          },
          "execution_count": 29
        }
      ]
    },
    {
      "cell_type": "markdown",
      "metadata": {
        "id": "-wKMaTgclEHN",
        "colab_type": "text"
      },
      "source": [
        "FORECASTING SEREVERAL TIME STAMPS AHEAD"
      ]
    },
    {
      "cell_type": "code",
      "metadata": {
        "id": "zrh3WdE_lJpY",
        "colab_type": "code",
        "colab": {}
      },
      "source": [
        "#TO PREDICT VAULE AT 10TH NEXT STEP JUST CHANGE TARGETS TO 10 STEP AHEAD.\n",
        "#TO PREDICT THOSE NEXT STEP 10 VALUES.?\n",
        "#SOLUTION 1:\n",
        "series = generate_time_series(1,n_steps+10)\n",
        "X_new ,y_new = series[:,:n_steps],series[:,n_steps:]\n",
        "X=X_new\n",
        "for step_ahead in range(10):\n",
        "  y_pred_one= DeepRnn.predict(X[:,step_ahead:])[:,np.newaxis,:]\n",
        "  X=np.concatenate([X,y_pred_one],axis=1)\n",
        "\n",
        "\n",
        "Y_pred=X[:,n_steps:]\n",
        "\n",
        "\n"
      ],
      "execution_count": 0,
      "outputs": []
    },
    {
      "cell_type": "code",
      "metadata": {
        "id": "SY0BfkmDTriX",
        "colab_type": "code",
        "colab": {}
      },
      "source": [
        "series = generate_time_series(1,n_steps+10)\n",
        "X_new ,y_new = series[:,:n_steps],series[:,n_steps]"
      ],
      "execution_count": 0,
      "outputs": []
    },
    {
      "cell_type": "code",
      "metadata": {
        "id": "qU47U0E6miJT",
        "colab_type": "code",
        "colab": {
          "base_uri": "https://localhost:8080/",
          "height": 34
        },
        "outputId": "f68291d6-c567-4ed6-8634-c88f23a58c05"
      },
      "source": [
        "series[:,:n_steps].shape\n",
        "y=(DeepRnn.predict(X_new[:,1:]))\n",
        "y.shape"
      ],
      "execution_count": 48,
      "outputs": [
        {
          "output_type": "execute_result",
          "data": {
            "text/plain": [
              "(1, 1)"
            ]
          },
          "metadata": {
            "tags": []
          },
          "execution_count": 48
        }
      ]
    },
    {
      "cell_type": "code",
      "metadata": {
        "id": "1phI4sSpY_82",
        "colab_type": "code",
        "colab": {
          "base_uri": "https://localhost:8080/",
          "height": 34
        },
        "outputId": "1e15c5ac-a8e4-4deb-9644-1a1cf6a6b230"
      },
      "source": [
        "np.mean(tf.keras.losses.mean_squared_error(y_new.reshape(10,1),Y_pred.reshape(10,1)))"
      ],
      "execution_count": 56,
      "outputs": [
        {
          "output_type": "execute_result",
          "data": {
            "text/plain": [
              "0.0015100244"
            ]
          },
          "metadata": {
            "tags": []
          },
          "execution_count": 56
        }
      ]
    },
    {
      "cell_type": "code",
      "metadata": {
        "id": "jli6rH-IZUoI",
        "colab_type": "code",
        "colab": {
          "base_uri": "https://localhost:8080/",
          "height": 194
        },
        "outputId": "8611786a-4f1b-46f8-e00f-00ea8181caaa"
      },
      "source": [
        "Y_pred.reshape(10,1)"
      ],
      "execution_count": 57,
      "outputs": [
        {
          "output_type": "execute_result",
          "data": {
            "text/plain": [
              "array([[-0.27847916],\n",
              "       [-0.26748604],\n",
              "       [-0.24663723],\n",
              "       [-0.21617058],\n",
              "       [-0.17288312],\n",
              "       [-0.10835671],\n",
              "       [-0.01626887],\n",
              "       [ 0.1005441 ],\n",
              "       [ 0.23409542],\n",
              "       [ 0.34945607]], dtype=float32)"
            ]
          },
          "metadata": {
            "tags": []
          },
          "execution_count": 57
        }
      ]
    },
    {
      "cell_type": "code",
      "metadata": {
        "id": "qr7Ijtd6Zi4u",
        "colab_type": "code",
        "colab": {
          "base_uri": "https://localhost:8080/",
          "height": 194
        },
        "outputId": "ba201501-d9f4-4a42-b3ab-7fccdf6d29f3"
      },
      "source": [
        "y_new.reshape(10,1)"
      ],
      "execution_count": 58,
      "outputs": [
        {
          "output_type": "execute_result",
          "data": {
            "text/plain": [
              "array([[-0.30047086],\n",
              "       [-0.2178156 ],\n",
              "       [-0.20377576],\n",
              "       [-0.20663038],\n",
              "       [-0.16348438],\n",
              "       [-0.11320417],\n",
              "       [-0.03477712],\n",
              "       [ 0.08369689],\n",
              "       [ 0.15609337],\n",
              "       [ 0.29115686]], dtype=float32)"
            ]
          },
          "metadata": {
            "tags": []
          },
          "execution_count": 58
        }
      ]
    },
    {
      "cell_type": "code",
      "metadata": {
        "id": "-9kn9FrmcE8o",
        "colab_type": "code",
        "colab": {}
      },
      "source": [
        ""
      ],
      "execution_count": 0,
      "outputs": []
    },
    {
      "cell_type": "code",
      "metadata": {
        "id": "bzn__mYScFK9",
        "colab_type": "code",
        "colab": {
          "base_uri": "https://localhost:8080/",
          "height": 194
        },
        "outputId": "57e25c98-662c-4b9f-9472-3a449a283644"
      },
      "source": [
        "#method 2:\n",
        "Y_pred.reshape(10,1) - y_new.reshape(10,1)\n",
        "\n"
      ],
      "execution_count": 59,
      "outputs": [
        {
          "output_type": "execute_result",
          "data": {
            "text/plain": [
              "array([[ 0.0219917 ],\n",
              "       [-0.04967044],\n",
              "       [-0.04286146],\n",
              "       [-0.0095402 ],\n",
              "       [-0.00939874],\n",
              "       [ 0.00484745],\n",
              "       [ 0.01850825],\n",
              "       [ 0.0168472 ],\n",
              "       [ 0.07800205],\n",
              "       [ 0.05829921]], dtype=float32)"
            ]
          },
          "metadata": {
            "tags": []
          },
          "execution_count": 59
        }
      ]
    },
    {
      "cell_type": "code",
      "metadata": {
        "id": "VoXRJjvJ9GWH",
        "colab_type": "code",
        "colab": {}
      },
      "source": [
        ""
      ],
      "execution_count": 0,
      "outputs": []
    },
    {
      "cell_type": "markdown",
      "metadata": {
        "id": "Ywrl1BnE9Htk",
        "colab_type": "text"
      },
      "source": [
        "Sequnce to verctor model."
      ]
    },
    {
      "cell_type": "code",
      "metadata": {
        "id": "IYaOW9jl9Mf0",
        "colab_type": "code",
        "colab": {}
      },
      "source": [
        "n_steps = 50\n",
        "series = generate_time_series(10000,n_steps+10)\n",
        "X_train,Y_train = series[:7000,:n_steps],series[:7000,-10:,0]\n",
        "X_valid,Y_valid = series[7000:9000,:n_steps],series[7000:9000,-10:,0]\n",
        "X_test,Y_test=series[9000:,:n_steps],series[9000:,-10,0]"
      ],
      "execution_count": 0,
      "outputs": []
    },
    {
      "cell_type": "code",
      "metadata": {
        "id": "k-ZMnTG7_1xA",
        "colab_type": "code",
        "colab": {}
      },
      "source": [
        "SeqtoVec = tf.keras.models.Sequential([tf.keras.layers.SimpleRNN(20,return_sequences=True,input_shape=[None,1]),\n",
        "                                       tf.keras.layers.SimpleRNN(20),\n",
        "                                       tf.keras.layers.Dense(10)])"
      ],
      "execution_count": 0,
      "outputs": []
    },
    {
      "cell_type": "code",
      "metadata": {
        "id": "hcj-_2p-NVYe",
        "colab_type": "code",
        "colab": {
          "base_uri": "https://localhost:8080/",
          "height": 265
        },
        "outputId": "b1fc6270-d1d5-4c8c-b387-d70bfd6183fa"
      },
      "source": [
        "SeqtoVec.summary()"
      ],
      "execution_count": 21,
      "outputs": [
        {
          "output_type": "stream",
          "text": [
            "Model: \"sequential_2\"\n",
            "_________________________________________________________________\n",
            "Layer (type)                 Output Shape              Param #   \n",
            "=================================================================\n",
            "simple_rnn_5 (SimpleRNN)     (None, None, 20)          440       \n",
            "_________________________________________________________________\n",
            "simple_rnn_6 (SimpleRNN)     (None, 20)                820       \n",
            "_________________________________________________________________\n",
            "dense_2 (Dense)              (None, 10)                210       \n",
            "=================================================================\n",
            "Total params: 1,470\n",
            "Trainable params: 1,470\n",
            "Non-trainable params: 0\n",
            "_________________________________________________________________\n"
          ],
          "name": "stdout"
        }
      ]
    },
    {
      "cell_type": "code",
      "metadata": {
        "id": "sz7FVb3yMj3L",
        "colab_type": "code",
        "colab": {
          "base_uri": "https://localhost:8080/",
          "height": 763
        },
        "outputId": "b19c33b4-c84b-4537-cf0d-972484c69576"
      },
      "source": [
        "SeqtoVec.compile(optimizer='adam',loss='mse')\n",
        "SeqtoVec.fit(x=X_train,y=Y_train,epochs=20,validation_data=(X_valid,Y_valid))"
      ],
      "execution_count": 22,
      "outputs": [
        {
          "output_type": "stream",
          "text": [
            "Train on 7000 samples, validate on 2000 samples\n",
            "Epoch 1/20\n",
            "7000/7000 [==============================] - 6s 916us/sample - loss: 0.0608 - val_loss: 0.0270\n",
            "Epoch 2/20\n",
            "7000/7000 [==============================] - 5s 676us/sample - loss: 0.0228 - val_loss: 0.0187\n",
            "Epoch 3/20\n",
            "7000/7000 [==============================] - 5s 679us/sample - loss: 0.0171 - val_loss: 0.0186\n",
            "Epoch 4/20\n",
            "7000/7000 [==============================] - 5s 705us/sample - loss: 0.0152 - val_loss: 0.0142\n",
            "Epoch 5/20\n",
            "7000/7000 [==============================] - 5s 704us/sample - loss: 0.0136 - val_loss: 0.0122\n",
            "Epoch 6/20\n",
            "7000/7000 [==============================] - 5s 685us/sample - loss: 0.0126 - val_loss: 0.0125\n",
            "Epoch 7/20\n",
            "7000/7000 [==============================] - 5s 697us/sample - loss: 0.0123 - val_loss: 0.0124\n",
            "Epoch 8/20\n",
            "7000/7000 [==============================] - 5s 694us/sample - loss: 0.0118 - val_loss: 0.0116\n",
            "Epoch 9/20\n",
            "7000/7000 [==============================] - 5s 698us/sample - loss: 0.0115 - val_loss: 0.0108\n",
            "Epoch 10/20\n",
            "7000/7000 [==============================] - 5s 692us/sample - loss: 0.0109 - val_loss: 0.0132\n",
            "Epoch 11/20\n",
            "7000/7000 [==============================] - 5s 691us/sample - loss: 0.0107 - val_loss: 0.0099\n",
            "Epoch 12/20\n",
            "7000/7000 [==============================] - 5s 699us/sample - loss: 0.0102 - val_loss: 0.0102\n",
            "Epoch 13/20\n",
            "7000/7000 [==============================] - 5s 697us/sample - loss: 0.0101 - val_loss: 0.0103\n",
            "Epoch 14/20\n",
            "7000/7000 [==============================] - 5s 708us/sample - loss: 0.0100 - val_loss: 0.0117\n",
            "Epoch 15/20\n",
            "7000/7000 [==============================] - 5s 746us/sample - loss: 0.0098 - val_loss: 0.0096\n",
            "Epoch 16/20\n",
            "7000/7000 [==============================] - 5s 696us/sample - loss: 0.0095 - val_loss: 0.0101\n",
            "Epoch 17/20\n",
            "7000/7000 [==============================] - 5s 748us/sample - loss: 0.0097 - val_loss: 0.0095\n",
            "Epoch 18/20\n",
            "7000/7000 [==============================] - 5s 684us/sample - loss: 0.0095 - val_loss: 0.0088\n",
            "Epoch 19/20\n",
            "7000/7000 [==============================] - 5s 719us/sample - loss: 0.0092 - val_loss: 0.0099\n",
            "Epoch 20/20\n",
            "7000/7000 [==============================] - 5s 718us/sample - loss: 0.0093 - val_loss: 0.0088\n"
          ],
          "name": "stdout"
        },
        {
          "output_type": "execute_result",
          "data": {
            "text/plain": [
              "<tensorflow.python.keras.callbacks.History at 0x7fd9e3810588>"
            ]
          },
          "metadata": {
            "tags": []
          },
          "execution_count": 22
        }
      ]
    },
    {
      "cell_type": "code",
      "metadata": {
        "id": "V5219wm8USg6",
        "colab_type": "code",
        "colab": {
          "base_uri": "https://localhost:8080/",
          "height": 34
        },
        "outputId": "11128511-2dc4-4b28-831e-1cea345ad7f7"
      },
      "source": [
        "Y_train.shape"
      ],
      "execution_count": 18,
      "outputs": [
        {
          "output_type": "execute_result",
          "data": {
            "text/plain": [
              "(7000, 0, 1)"
            ]
          },
          "metadata": {
            "tags": []
          },
          "execution_count": 18
        }
      ]
    },
    {
      "cell_type": "code",
      "metadata": {
        "id": "5WAmuSvvVGEM",
        "colab_type": "code",
        "colab": {
          "base_uri": "https://localhost:8080/",
          "height": 70
        },
        "outputId": "795401b2-41eb-4a18-c019-93958cb6c677"
      },
      "source": [
        "#predicting 10 values at once.\n",
        "series1 = generate_time_series(1,n_steps+10)\n",
        "X_new ,y_new = series1[:,:n_steps],series1[:,n_steps:]\n",
        "X=X_new\n",
        "Y_pred=SeqtoVec.predict(X)\n",
        "Y_pred"
      ],
      "execution_count": 24,
      "outputs": [
        {
          "output_type": "execute_result",
          "data": {
            "text/plain": [
              "array([[-0.4429071 , -0.34703997, -0.2647407 , -0.22561099, -0.20047702,\n",
              "        -0.20758827, -0.21689215, -0.1747995 , -0.06746349,  0.03275465]],\n",
              "      dtype=float32)"
            ]
          },
          "metadata": {
            "tags": []
          },
          "execution_count": 24
        }
      ]
    },
    {
      "cell_type": "code",
      "metadata": {
        "id": "TXX24fmdVZqr",
        "colab_type": "code",
        "colab": {}
      },
      "source": [
        ""
      ],
      "execution_count": 0,
      "outputs": []
    },
    {
      "cell_type": "code",
      "metadata": {
        "id": "OWOyH4i-VaZg",
        "colab_type": "code",
        "colab": {}
      },
      "source": [
        "Sequence to Sequenct Model. SLight imporvement."
      ],
      "execution_count": 0,
      "outputs": []
    }
  ]
}