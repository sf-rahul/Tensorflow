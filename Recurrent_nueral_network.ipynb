{
  "nbformat": 4,
  "nbformat_minor": 0,
  "metadata": {
    "colab": {
      "name": "Recurrent nueral network.ipynb",
      "provenance": [],
      "collapsed_sections": [],
      "authorship_tag": "ABX9TyMgiEVXYgufIJNocGa87aWN",
      "include_colab_link": true
    },
    "kernelspec": {
      "name": "python3",
      "display_name": "Python 3"
    }
  },
  "cells": [
    {
      "cell_type": "markdown",
      "metadata": {
        "id": "view-in-github",
        "colab_type": "text"
      },
      "source": [
        "<a href=\"https://colab.research.google.com/github/sf-rahul/Tensorflow/blob/master/Recurrent_nueral_network.ipynb\" target=\"_parent\"><img src=\"https://colab.research.google.com/assets/colab-badge.svg\" alt=\"Open In Colab\"/></a>"
      ]
    },
    {
      "cell_type": "markdown",
      "metadata": {
        "id": "xVCaeE341PSA",
        "colab_type": "text"
      },
      "source": [
        "**time series forecasting using rnns.**"
      ]
    },
    {
      "cell_type": "code",
      "metadata": {
        "id": "xdVkGp34FRNj",
        "colab_type": "code",
        "outputId": "1a0d310f-2b80-4a2b-9b3a-f0cdee44e8e8",
        "colab": {
          "base_uri": "https://localhost:8080/",
          "height": 34
        }
      },
      "source": [
        "#rnnn\n",
        "from __future__ import absolute_import, division, print_function, unicode_literals\n",
        "\n",
        "try:\n",
        "  # %tensorflow_version only exists in Colab.\n",
        "  %tensorflow_version 2.x\n",
        "except Exception:\n",
        "  pass\n",
        "import tensorflow as tf\n",
        "\n",
        "import numpy as np\n",
        "import os\n",
        "import time\n",
        "\n",
        "tf.random.set_seed(1)"
      ],
      "execution_count": 1,
      "outputs": [
        {
          "output_type": "stream",
          "text": [
            "TensorFlow 2.x selected.\n"
          ],
          "name": "stdout"
        }
      ]
    },
    {
      "cell_type": "code",
      "metadata": {
        "id": "At12fr4xFapl",
        "colab_type": "code",
        "colab": {}
      },
      "source": [
        "#function to create time series data of length n_steps\n",
        "#input to the rnn is [batch_size, time steps , dimensionality]\n",
        "#a time series is cosistting of values having per time step\n",
        "#value is univariabte then it is calles univariate time series\n",
        "#value is multivariate then it is calles multivariate time series.\n",
        "def generate_time_series(batch_size,n_steps):\n",
        "  freq1,freq2,offset1,offset2 = np.random.rand(4,batch_size,1)#4 random array of shape (batch_size,1)\n",
        "  time = np.linspace(0,1,n_steps)\n",
        "  series = 0.5  * np.sin((time-offset1) * (freq1*10+10)) #wave1\n",
        "  series+= 0.2 * np.sin((time-offset2) * (freq2*20 +20)) #+wave2\n",
        "  series +=0.1*(np.random.rand(batch_size,n_steps) - 0.5) #+noise\n",
        "  #print(series)\n",
        "  #to add new axis to data.\n",
        "  return series[...,np.newaxis].astype(np.float32)\n",
        "\n",
        "\n"
      ],
      "execution_count": 0,
      "outputs": []
    },
    {
      "cell_type": "code",
      "metadata": {
        "id": "nyPGB2QWGB6p",
        "colab_type": "code",
        "outputId": "e184eb52-4890-4bc6-9937-e9d57cd4a451",
        "colab": {
          "base_uri": "https://localhost:8080/",
          "height": 514
        }
      },
      "source": [
        "series = generate_time_series(4,3) #shape(4,2,1)\n",
        "print(series)\n",
        "print('--------------')\n",
        "x,y=series[:3,:2],series[:3,-1]\n",
        "print(x)\n",
        "print('------------------')\n",
        "print(y)\n"
      ],
      "execution_count": 0,
      "outputs": [
        {
          "output_type": "stream",
          "text": [
            "[[[-0.09269179]\n",
            "  [-0.27487454]\n",
            "  [ 0.26764813]]\n",
            "\n",
            " [[-0.3955232 ]\n",
            "  [-0.47525486]\n",
            "  [-0.3857966 ]]\n",
            "\n",
            " [[ 0.58213425]\n",
            "  [ 0.49402696]\n",
            "  [ 0.30883703]]\n",
            "\n",
            " [[ 0.3142075 ]\n",
            "  [ 0.546498  ]\n",
            "  [ 0.05040054]]]\n",
            "--------------\n",
            "[[[-0.09269179]\n",
            "  [-0.27487454]]\n",
            "\n",
            " [[-0.3955232 ]\n",
            "  [-0.47525486]]\n",
            "\n",
            " [[ 0.58213425]\n",
            "  [ 0.49402696]]]\n",
            "------------------\n",
            "[[ 0.26764813]\n",
            " [-0.3857966 ]\n",
            " [ 0.30883703]]\n"
          ],
          "name": "stdout"
        }
      ]
    },
    {
      "cell_type": "code",
      "metadata": {
        "id": "1EfYnnijNfpV",
        "colab_type": "code",
        "colab": {}
      },
      "source": [
        "#creating training , validation and test sets\n",
        "n_steps =50 #no of time stamps or steps  in a time series \n",
        "series = generate_time_series(10000,n_steps+1)\n",
        "X_train ,y_train = series[:7000,:n_steps],series[:7000,-1]\n",
        "X_valid,y_valid = series[7000:9000,:n_steps],series[7000:9000,-1]\n",
        "X_test,y_test = series[9000:,:n_steps],series[9000:,-1]\n"
      ],
      "execution_count": 0,
      "outputs": []
    },
    {
      "cell_type": "code",
      "metadata": {
        "id": "KnEYHgzuQH3z",
        "colab_type": "code",
        "outputId": "de50c89c-412e-4cb0-dd8e-040e97b5a06b",
        "colab": {
          "base_uri": "https://localhost:8080/",
          "height": 70
        }
      },
      "source": [
        "print(X_train.shape,y_train.shape)\n",
        "print(X_valid.shape,y_valid.shape)\n",
        "print(X_test.shape,y_test.shape)"
      ],
      "execution_count": 4,
      "outputs": [
        {
          "output_type": "stream",
          "text": [
            "(7000, 50, 1) (7000, 1)\n",
            "(2000, 50, 1) (2000, 1)\n",
            "(1000, 50, 1) (1000, 1)\n"
          ],
          "name": "stdout"
        }
      ]
    },
    {
      "cell_type": "code",
      "metadata": {
        "id": "Hiq3G71y0ui9",
        "colab_type": "code",
        "outputId": "e96a6ddc-acba-458f-a5bb-b83b0f43288a",
        "colab": {
          "base_uri": "https://localhost:8080/",
          "height": 34
        }
      },
      "source": [
        "#Baseline model 1. \n",
        "#naive forecasting := predict the last value in each series.\n",
        "#just pick the last value as predicted value.\n",
        "y_pred = X_valid[:,-1]\n",
        "np.mean(tf.keras.losses.mean_squared_error(y_valid,y_pred))"
      ],
      "execution_count": 5,
      "outputs": [
        {
          "output_type": "execute_result",
          "data": {
            "text/plain": [
              "0.020904407"
            ]
          },
          "metadata": {
            "tags": []
          },
          "execution_count": 5
        }
      ]
    },
    {
      "cell_type": "code",
      "metadata": {
        "id": "us8dzj3C2bxo",
        "colab_type": "code",
        "colab": {}
      },
      "source": [
        "#Baseline model 2\n",
        "#use a fully connected network.\n",
        "#the input will be flattene to 50*1 = 50 features(time steps)\n",
        "#predictin will be simply linear compination of the time step values.\n",
        "model2 = tf.keras.models.Sequential([tf.keras.layers.Flatten(input_shape=[50,1]),\n",
        "                                     tf.keras.layers.Dense(1)])\n",
        "\n"
      ],
      "execution_count": 0,
      "outputs": []
    },
    {
      "cell_type": "code",
      "metadata": {
        "id": "do6XRyAo4MZ9",
        "colab_type": "code",
        "outputId": "bcbd3bb8-fdca-4e94-9a9c-83b2a89fbf5a",
        "colab": {
          "base_uri": "https://localhost:8080/",
          "height": 230
        }
      },
      "source": [
        "model2.summary()"
      ],
      "execution_count": 0,
      "outputs": [
        {
          "output_type": "stream",
          "text": [
            "Model: \"sequential\"\n",
            "_________________________________________________________________\n",
            "Layer (type)                 Output Shape              Param #   \n",
            "=================================================================\n",
            "flatten_1 (Flatten)          (None, 50)                0         \n",
            "_________________________________________________________________\n",
            "dense (Dense)                (None, 1)                 51        \n",
            "=================================================================\n",
            "Total params: 51\n",
            "Trainable params: 51\n",
            "Non-trainable params: 0\n",
            "_________________________________________________________________\n"
          ],
          "name": "stdout"
        }
      ]
    },
    {
      "cell_type": "code",
      "metadata": {
        "id": "yKyDqNca4V8B",
        "colab_type": "code",
        "colab": {}
      },
      "source": [
        "model2.compile(optimizer='adam', loss='mse')"
      ],
      "execution_count": 0,
      "outputs": []
    },
    {
      "cell_type": "code",
      "metadata": {
        "id": "MDNYctwJ4nJ8",
        "colab_type": "code",
        "outputId": "b08cc710-8814-4796-ca9a-49e41f30bb9f",
        "colab": {
          "base_uri": "https://localhost:8080/",
          "height": 763
        }
      },
      "source": [
        "model2.fit(x=X_train,y=y_train,epochs=20,validation_data=(X_valid,y_valid))"
      ],
      "execution_count": 8,
      "outputs": [
        {
          "output_type": "stream",
          "text": [
            "Train on 7000 samples, validate on 2000 samples\n",
            "Epoch 1/20\n",
            "7000/7000 [==============================] - 1s 105us/sample - loss: 0.0883 - val_loss: 0.0373\n",
            "Epoch 2/20\n",
            "7000/7000 [==============================] - 0s 49us/sample - loss: 0.0255 - val_loss: 0.0185\n",
            "Epoch 3/20\n",
            "7000/7000 [==============================] - 0s 50us/sample - loss: 0.0152 - val_loss: 0.0129\n",
            "Epoch 4/20\n",
            "7000/7000 [==============================] - 0s 50us/sample - loss: 0.0116 - val_loss: 0.0105\n",
            "Epoch 5/20\n",
            "7000/7000 [==============================] - 0s 49us/sample - loss: 0.0097 - val_loss: 0.0091\n",
            "Epoch 6/20\n",
            "7000/7000 [==============================] - 0s 50us/sample - loss: 0.0083 - val_loss: 0.0079\n",
            "Epoch 7/20\n",
            "7000/7000 [==============================] - 0s 48us/sample - loss: 0.0073 - val_loss: 0.0070\n",
            "Epoch 8/20\n",
            "7000/7000 [==============================] - 0s 46us/sample - loss: 0.0065 - val_loss: 0.0062\n",
            "Epoch 9/20\n",
            "7000/7000 [==============================] - 0s 48us/sample - loss: 0.0058 - val_loss: 0.0056\n",
            "Epoch 10/20\n",
            "7000/7000 [==============================] - 0s 50us/sample - loss: 0.0053 - val_loss: 0.0052\n",
            "Epoch 11/20\n",
            "7000/7000 [==============================] - 0s 48us/sample - loss: 0.0049 - val_loss: 0.0048\n",
            "Epoch 12/20\n",
            "7000/7000 [==============================] - 0s 50us/sample - loss: 0.0046 - val_loss: 0.0047\n",
            "Epoch 13/20\n",
            "7000/7000 [==============================] - 0s 48us/sample - loss: 0.0044 - val_loss: 0.0044\n",
            "Epoch 14/20\n",
            "7000/7000 [==============================] - 0s 48us/sample - loss: 0.0042 - val_loss: 0.0043\n",
            "Epoch 15/20\n",
            "7000/7000 [==============================] - 0s 51us/sample - loss: 0.0040 - val_loss: 0.0041\n",
            "Epoch 16/20\n",
            "7000/7000 [==============================] - 0s 48us/sample - loss: 0.0039 - val_loss: 0.0041\n",
            "Epoch 17/20\n",
            "7000/7000 [==============================] - 0s 47us/sample - loss: 0.0038 - val_loss: 0.0040\n",
            "Epoch 18/20\n",
            "7000/7000 [==============================] - 0s 48us/sample - loss: 0.0037 - val_loss: 0.0039\n",
            "Epoch 19/20\n",
            "7000/7000 [==============================] - 0s 49us/sample - loss: 0.0037 - val_loss: 0.0039\n",
            "Epoch 20/20\n",
            "7000/7000 [==============================] - 0s 49us/sample - loss: 0.0036 - val_loss: 0.0038\n"
          ],
          "name": "stdout"
        },
        {
          "output_type": "execute_result",
          "data": {
            "text/plain": [
              "<tensorflow.python.keras.callbacks.History at 0x7f13ba5308d0>"
            ]
          },
          "metadata": {
            "tags": []
          },
          "execution_count": 8
        }
      ]
    },
    {
      "cell_type": "markdown",
      "metadata": {
        "id": "4VfD8NEW5P5q",
        "colab_type": "text"
      },
      "source": [
        "**IMPLEMENTING SIMPLE RNN**"
      ]
    },
    {
      "cell_type": "code",
      "metadata": {
        "id": "JQWr7Q6E5WDO",
        "colab_type": "code",
        "colab": {}
      },
      "source": [
        "SimpleRnn = tf.keras.models.Sequential([\n",
        "                                        tf.keras.layers.SimpleRNN(1,input_shape=[None,1])\n",
        "                       ])"
      ],
      "execution_count": 0,
      "outputs": []
    },
    {
      "cell_type": "code",
      "metadata": {
        "id": "bgDSfrRL6LJO",
        "colab_type": "code",
        "outputId": "5412d56a-4d5d-425a-c59c-13833b0e4eca",
        "colab": {
          "base_uri": "https://localhost:8080/",
          "height": 194
        }
      },
      "source": [
        "SimpleRnn.summary()"
      ],
      "execution_count": 14,
      "outputs": [
        {
          "output_type": "stream",
          "text": [
            "Model: \"sequential_3\"\n",
            "_________________________________________________________________\n",
            "Layer (type)                 Output Shape              Param #   \n",
            "=================================================================\n",
            "simple_rnn_2 (SimpleRNN)     (None, 1)                 3         \n",
            "=================================================================\n",
            "Total params: 3\n",
            "Trainable params: 3\n",
            "Non-trainable params: 0\n",
            "_________________________________________________________________\n"
          ],
          "name": "stdout"
        }
      ]
    },
    {
      "cell_type": "code",
      "metadata": {
        "id": "_VfwOdsm8Eut",
        "colab_type": "code",
        "outputId": "bf4361e4-8d7f-49bc-e34f-546bf1e413db",
        "colab": {
          "base_uri": "https://localhost:8080/",
          "height": 763
        }
      },
      "source": [
        "SimpleRnn.compile(optimizer='adam',loss='mse')\n",
        "SimpleRnn.fit(x=X_train,y=y_train,epochs=20,validation_data=(X_valid,y_valid))"
      ],
      "execution_count": 15,
      "outputs": [
        {
          "output_type": "stream",
          "text": [
            "Train on 7000 samples, validate on 2000 samples\n",
            "Epoch 1/20\n",
            "7000/7000 [==============================] - 3s 387us/sample - loss: 0.2219 - val_loss: 0.2026\n",
            "Epoch 2/20\n",
            "7000/7000 [==============================] - 2s 281us/sample - loss: 0.1850 - val_loss: 0.1682\n",
            "Epoch 3/20\n",
            "7000/7000 [==============================] - 2s 278us/sample - loss: 0.1554 - val_loss: 0.1413\n",
            "Epoch 4/20\n",
            "7000/7000 [==============================] - 2s 283us/sample - loss: 0.1316 - val_loss: 0.1186\n",
            "Epoch 5/20\n",
            "7000/7000 [==============================] - 2s 285us/sample - loss: 0.1089 - val_loss: 0.0963\n",
            "Epoch 6/20\n",
            "7000/7000 [==============================] - 2s 286us/sample - loss: 0.0875 - val_loss: 0.0769\n",
            "Epoch 7/20\n",
            "7000/7000 [==============================] - 2s 283us/sample - loss: 0.0690 - val_loss: 0.0601\n",
            "Epoch 8/20\n",
            "7000/7000 [==============================] - 2s 284us/sample - loss: 0.0533 - val_loss: 0.0459\n",
            "Epoch 9/20\n",
            "7000/7000 [==============================] - 2s 281us/sample - loss: 0.0402 - val_loss: 0.0343\n",
            "Epoch 10/20\n",
            "7000/7000 [==============================] - 2s 278us/sample - loss: 0.0298 - val_loss: 0.0255\n",
            "Epoch 11/20\n",
            "7000/7000 [==============================] - 2s 291us/sample - loss: 0.0223 - val_loss: 0.0194\n",
            "Epoch 12/20\n",
            "7000/7000 [==============================] - 2s 293us/sample - loss: 0.0173 - val_loss: 0.0156\n",
            "Epoch 13/20\n",
            "7000/7000 [==============================] - 2s 286us/sample - loss: 0.0144 - val_loss: 0.0136\n",
            "Epoch 14/20\n",
            "7000/7000 [==============================] - 2s 286us/sample - loss: 0.0129 - val_loss: 0.0126\n",
            "Epoch 15/20\n",
            "7000/7000 [==============================] - 2s 288us/sample - loss: 0.0122 - val_loss: 0.0122\n",
            "Epoch 16/20\n",
            "7000/7000 [==============================] - 2s 296us/sample - loss: 0.0119 - val_loss: 0.0120\n",
            "Epoch 17/20\n",
            "7000/7000 [==============================] - 2s 302us/sample - loss: 0.0118 - val_loss: 0.0119\n",
            "Epoch 18/20\n",
            "7000/7000 [==============================] - 2s 298us/sample - loss: 0.0117 - val_loss: 0.0119\n",
            "Epoch 19/20\n",
            "7000/7000 [==============================] - 2s 294us/sample - loss: 0.0116 - val_loss: 0.0118\n",
            "Epoch 20/20\n",
            "7000/7000 [==============================] - 2s 290us/sample - loss: 0.0115 - val_loss: 0.0117\n"
          ],
          "name": "stdout"
        },
        {
          "output_type": "execute_result",
          "data": {
            "text/plain": [
              "<tensorflow.python.keras.callbacks.History at 0x7f13b8a55278>"
            ]
          },
          "metadata": {
            "tags": []
          },
          "execution_count": 15
        }
      ]
    },
    {
      "cell_type": "code",
      "metadata": {
        "id": "bLhsDdmw9U0U",
        "colab_type": "code",
        "colab": {}
      },
      "source": [
        "#The simple rnn is better than the naive one but not than the fully connected one."
      ],
      "execution_count": 0,
      "outputs": []
    },
    {
      "cell_type": "markdown",
      "metadata": {
        "id": "E2aQGEqe9YxY",
        "colab_type": "text"
      },
      "source": [
        "**DEEP RNNS**\n",
        "Stack multiple layers of the cells."
      ]
    },
    {
      "cell_type": "code",
      "metadata": {
        "id": "29uaEE4_9oqL",
        "colab_type": "code",
        "colab": {}
      },
      "source": [
        "DeepRnn = tf.keras.models.Sequential([\n",
        "                                 tf.keras.layers.SimpleRNN(20,return_sequences=True,input_shape=[None,1]),\n",
        "                                 tf.keras.layers.SimpleRNN(20,return_sequences=True),\n",
        "                                 tf.keras.layers.SimpleRNN(1)\n",
        "\n",
        " ])"
      ],
      "execution_count": 0,
      "outputs": []
    },
    {
      "cell_type": "code",
      "metadata": {
        "id": "weWm7TAp-x2C",
        "colab_type": "code",
        "outputId": "44c516a0-7873-42bf-9c72-3f9922d471e9",
        "colab": {
          "base_uri": "https://localhost:8080/",
          "height": 265
        }
      },
      "source": [
        "DeepRnn.summary()"
      ],
      "execution_count": 17,
      "outputs": [
        {
          "output_type": "stream",
          "text": [
            "Model: \"sequential_4\"\n",
            "_________________________________________________________________\n",
            "Layer (type)                 Output Shape              Param #   \n",
            "=================================================================\n",
            "simple_rnn_3 (SimpleRNN)     (None, None, 20)          440       \n",
            "_________________________________________________________________\n",
            "simple_rnn_4 (SimpleRNN)     (None, None, 20)          820       \n",
            "_________________________________________________________________\n",
            "simple_rnn_5 (SimpleRNN)     (None, 1)                 22        \n",
            "=================================================================\n",
            "Total params: 1,282\n",
            "Trainable params: 1,282\n",
            "Non-trainable params: 0\n",
            "_________________________________________________________________\n"
          ],
          "name": "stdout"
        }
      ]
    },
    {
      "cell_type": "code",
      "metadata": {
        "id": "-TOTRgqef_sJ",
        "colab_type": "code",
        "colab": {}
      },
      "source": [
        ""
      ],
      "execution_count": 0,
      "outputs": []
    }
  ]
}